{
 "cells": [
  {
   "cell_type": "markdown",
   "metadata": {},
   "source": [
    "# Data & Things (RUC F2023)\n",
    "\n",
    "## Hand-in Exercises for Exam\n",
    "\n",
    "* This is a template for your exercise solutions. Each solution may use multiple cells. \n",
    "\n",
    "* Do your best to make your code clean and clear, e.g., by using comments and markdowns.\n",
    "\n",
    "* Remeber to fill in the information of all your group members in the following cell."
   ]
  },
  {
   "attachments": {},
   "cell_type": "markdown",
   "metadata": {},
   "source": [
    "## Group Members:\n",
    "* [Rasmus Kjær Nielsen, 68910, rkjaern@ruc.dk]\n",
    "* [name_2, student number, email_2]\n",
    "* [Add more if needed]"
   ]
  },
  {
   "cell_type": "markdown",
   "metadata": {},
   "source": [
    "## 0. Loading of common modules or initialization of other common things, if any"
   ]
  },
  {
   "cell_type": "code",
   "execution_count": null,
   "metadata": {},
   "outputs": [],
   "source": []
  },
  {
   "cell_type": "markdown",
   "metadata": {},
   "source": [
    "## 1. EDA and data cleaning (Lecture 2 & 5)\n",
    "\n",
    "Make an Exploratory Data Analysis (EDA) and data cleaning of the “titanic_survival_data.csv” dataset from Lectures 5 and 6, including dealing with outliers and missing values."
   ]
  },
  {
   "cell_type": "code",
   "execution_count": null,
   "metadata": {},
   "outputs": [],
   "source": []
  },
  {
   "cell_type": "markdown",
   "metadata": {},
   "source": [
    "## 2. Classification (Lecture 3 & 4)\n",
    "\n",
    "Combine the exercise from Lecture 3 with exercise 2 from Lecture 4 into one, and construct some classification models to predict if a passenger would survive or not in the Titanic dataset. \n",
    "\n",
    "* a) You should have (1) decision tree, (2) random forest, and (3) KNN. You may also vary the configuration of each model type.\n",
    "* b) You should do necessary data preprocessing (e.g., missing value fill-in, and data scaling if needed for a classifier). \n",
    "* c) You should also do cross-validation of your models.\n",
    "* d) Plot the ROC with AUC for each model you implement.\n"
   ]
  },
  {
   "cell_type": "code",
   "execution_count": null,
   "metadata": {},
   "outputs": [],
   "source": []
  },
  {
   "cell_type": "markdown",
   "metadata": {},
   "source": [
    "## 3. Regression (Lecture 6)\n",
    "\n",
    "Train a multiple linear regression, a random forest model, and an AdaBoost model on the “boston_housing_data.csv” dataset from Lectures 5 and 6 and remember to do train-test split as well as other necessary pre-processing dataset."
   ]
  },
  {
   "cell_type": "code",
   "execution_count": null,
   "metadata": {},
   "outputs": [],
   "source": []
  },
  {
   "cell_type": "markdown",
   "metadata": {},
   "source": [
    "## 4. Clustering (Lecture 7 & 8)\n",
    "\n",
    "Exercise 2 (both 2.1 and 2.2) from Lecture 7 and exercise 1 from Lecture 8."
   ]
  },
  {
   "cell_type": "code",
   "execution_count": null,
   "metadata": {},
   "outputs": [],
   "source": []
  },
  {
   "cell_type": "markdown",
   "metadata": {},
   "source": [
    "## 5. Key-value stores (Lecture 9)\n",
    "\n",
    "Exercise 1 from Lecture 9."
   ]
  },
  {
   "cell_type": "code",
   "execution_count": null,
   "metadata": {},
   "outputs": [],
   "source": []
  },
  {
   "cell_type": "markdown",
   "metadata": {},
   "source": [
    "## 6. Deep learning (Lecture 10)\n",
    "\n",
    "Train a deep neural network to predict if a passenger would survive or not in the Titanic dataset and remember to do train-test split as well as other necessary pre-processing dataset."
   ]
  },
  {
   "cell_type": "code",
   "execution_count": null,
   "metadata": {},
   "outputs": [],
   "source": []
  },
  {
   "cell_type": "markdown",
   "metadata": {},
   "source": [
    "## 7. MapReduce (Lecture 13)\n",
    "\n",
    "All exercises from Lecture 13."
   ]
  },
  {
   "cell_type": "code",
   "execution_count": null,
   "metadata": {},
   "outputs": [],
   "source": []
  },
  {
   "cell_type": "markdown",
   "metadata": {},
   "source": [
    "## 8. Time Series Analysis (Lecture 14 & 15)\n",
    "\n",
    "Do a time series analysis of the Copenhagen ice cream dataset (\"cph_ice_cream_searches.csv\") from Lectures 14 and 15."
   ]
  },
  {
   "cell_type": "code",
   "execution_count": null,
   "metadata": {},
   "outputs": [],
   "source": []
  },
  {
   "cell_type": "markdown",
   "metadata": {},
   "source": [
    "## 9. IoT (Lecture 17)\n",
    "\n",
    "All exercises from Lecture 17."
   ]
  },
  {
   "cell_type": "code",
   "execution_count": null,
   "metadata": {},
   "outputs": [],
   "source": []
  }
 ],
 "metadata": {
  "kernelspec": {
   "display_name": "Python 3",
   "language": "python",
   "name": "python3"
  },
  "language_info": {
   "codemirror_mode": {
    "name": "ipython",
    "version": 3
   },
   "file_extension": ".py",
   "mimetype": "text/x-python",
   "name": "python",
   "nbconvert_exporter": "python",
   "pygments_lexer": "ipython3",
   "version": "3.8.3"
  }
 },
 "nbformat": 4,
 "nbformat_minor": 4
}
